{
  "cells": [
    {
      "cell_type": "code",
      "execution_count": 23,
      "metadata": {
        "colab": {
          "base_uri": "https://localhost:8080/"
        },
        "id": "_0-XE02s96YR",
        "outputId": "0e751ed5-5a27-4145-b71c-78b970d0f994"
      },
      "outputs": [],
      "source": [
        "# LIBRARIES\n",
        "import pandas as pd\n",
        "import seaborn as sns\n",
        "import matplotlib.pyplot as plt\n",
        "import xgboost as xgb\n",
        "from sklearn.model_selection import train_test_split\n",
        "from sklearn.metrics import accuracy_score, precision_score, recall_score, f1_score, average_precision_score, precision_recall_curve, auc\n",
        "from sklearn.preprocessing import StandardScaler\n",
        "from sklearn.utils import resample"
      ]
    },
    {
      "cell_type": "code",
      "execution_count": 24,
      "metadata": {
        "colab": {
          "base_uri": "https://localhost:8080/"
        },
        "id": "7l-2Ec029_2Y",
        "outputId": "91d65f4e-9272-4d7c-d583-9d330c36c0c0"
      },
      "outputs": [
        {
          "name": "stdout",
          "output_type": "stream",
          "text": [
            "   Time        V1        V2        V3        V4        V5        V6        V7  \\\n",
            "0   0.0 -1.359807 -0.072781  2.536347  1.378155 -0.338321  0.462388  0.239599   \n",
            "1   0.0  1.191857  0.266151  0.166480  0.448154  0.060018 -0.082361 -0.078803   \n",
            "2   1.0 -1.358354 -1.340163  1.773209  0.379780 -0.503198  1.800499  0.791461   \n",
            "3   1.0 -0.966272 -0.185226  1.792993 -0.863291 -0.010309  1.247203  0.237609   \n",
            "4   2.0 -1.158233  0.877737  1.548718  0.403034 -0.407193  0.095921  0.592941   \n",
            "\n",
            "         V8        V9  ...       V21       V22       V23       V24       V25  \\\n",
            "0  0.098698  0.363787  ... -0.018307  0.277838 -0.110474  0.066928  0.128539   \n",
            "1  0.085102 -0.255425  ... -0.225775 -0.638672  0.101288 -0.339846  0.167170   \n",
            "2  0.247676 -1.514654  ...  0.247998  0.771679  0.909412 -0.689281 -0.327642   \n",
            "3  0.377436 -1.387024  ... -0.108300  0.005274 -0.190321 -1.175575  0.647376   \n",
            "4 -0.270533  0.817739  ... -0.009431  0.798278 -0.137458  0.141267 -0.206010   \n",
            "\n",
            "        V26       V27       V28  Amount  Class  \n",
            "0 -0.189115  0.133558 -0.021053  149.62      0  \n",
            "1  0.125895 -0.008983  0.014724    2.69      0  \n",
            "2 -0.139097 -0.055353 -0.059752  378.66      0  \n",
            "3 -0.221929  0.062723  0.061458  123.50      0  \n",
            "4  0.502292  0.219422  0.215153   69.99      0  \n",
            "\n",
            "[5 rows x 31 columns]\n"
          ]
        }
      ],
      "source": [
        "# Read in the \"creditcard.csv\" file from the folder into a dataframe called df.\n",
        "# Use df.head() to get an idea of what the data looks like.\n",
        "# Assuming the CSV file is in the same folder as your script or notebook\n",
        "file_path = 'creditcard.csv'\n",
        "# Read the CSV file into a DataFrame\n",
        "df = pd.read_csv(file_path)\n",
        "# Display the first few rows of the DataFrame\n",
        "print(df.head())"
      ]
    },
    {
      "cell_type": "code",
      "execution_count": 25,
      "metadata": {
        "colab": {
          "base_uri": "https://localhost:8080/"
        },
        "id": "uiXrCQVv-KRY",
        "outputId": "76bda6d5-fdda-4f05-c4b9-2dfeb66d4400"
      },
      "outputs": [
        {
          "name": "stdout",
          "output_type": "stream",
          "text": [
            "The maximum number of null values in any column is: 0\n"
          ]
        }
      ],
      "source": [
        "# Check for null values using df.isnull().sum().max()\n",
        "max_null_values = df.isnull().sum().max()\n",
        "print(f\"The maximum number of null values in any column is: {max_null_values}\")"
      ]
    },
    {
      "cell_type": "code",
      "execution_count": 26,
      "metadata": {
        "colab": {
          "base_uri": "https://localhost:8080/",
          "height": 471
        },
        "id": "LQ3Rapig-PBA",
        "outputId": "a5497690-1001-4cff-b9ce-a4a6bf48100c"
      },
      "outputs": [
        {
          "name": "stdout",
          "output_type": "stream",
          "text": [
            "No Frauds 99.83 % of the dataset\n",
            "Frauds 0.17 % of the dataset\n"
          ]
        },
        {
          "data": {
            "image/png": "[encoded data removed]",
            "text/plain": [
              "<Figure size 640x480 with 1 Axes>"
            ]
          },
          "metadata": {},
          "output_type": "display_data"
        }
      ],
      "source": [
        "# Print the percentage of non-fraudulent and fraudulent transactions\n",
        "no_frauds_percentage = round(df['Class'].value_counts()[0] / len(df) * 100, 2)\n",
        "frauds_percentage = round(df['Class'].value_counts()[1] / len(df) * 100, 2)\n",
        "print('No Frauds', no_frauds_percentage, '% of the dataset')\n",
        "print('Frauds', frauds_percentage, '% of the dataset')\n",
        "\n",
        "# Create a visual representation of the class imbalance using a pie chart\n",
        "labels = ['No Fraud', 'Fraud']\n",
        "sizes = [no_frauds_percentage, frauds_percentage]\n",
        "colors = ['blue', 'red']\n",
        "\n",
        "plt.pie(sizes, labels=labels, colors=colors, autopct='%1.2f%%', startangle=90)\n",
        "plt.title('Class Distribution (0: No Fraud, 1: Fraud)')\n",
        "plt.axis('equal')\n",
        "plt.show()"
      ]
    },
    {
      "cell_type": "code",
      "execution_count": 27,
      "metadata": {
        "id": "X640WcOu-Rki"
      },
      "outputs": [],
      "source": [
        "# Scale the Transaction time and amount values\n",
        "# Scale the 'Time' and 'Amount' columns\n",
        "scaler = StandardScaler()\n",
        "df['Time_Scaled'] = scaler.fit_transform(df['Time'].values.reshape(-1, 1))\n",
        "df['Amount_Scaled'] = scaler.fit_transform(df['Amount'].values.reshape(-1, 1))\n",
        "\n",
        "# Drop the original 'Time' and 'Amount' columns\n",
        "df.drop(['Time', 'Amount'], axis=1, inplace=True)"
      ]
    },
    {
      "cell_type": "code",
      "execution_count": 28,
      "metadata": {
        "colab": {
          "base_uri": "https://localhost:8080/"
        },
        "id": "Ly1h-GgH-T4N",
        "outputId": "6c7e69c7-a2a2-46d6-fb62-8dc7d2ec7081"
      },
      "outputs": [
        {
          "name": "stdout",
          "output_type": "stream",
          "text": [
            "0    284315\n",
            "1    284315\n",
            "Name: Class, dtype: int64\n"
          ]
        }
      ],
      "source": [
        "# Deal with the class imbalance\n",
        "# Separate majority and minority classes\n",
        "majority_class = df[df['Class'] == 0]\n",
        "minority_class = df[df['Class'] == 1]\n",
        "\n",
        "# Upsample the minority class\n",
        "minority_upsampled = resample(minority_class, replace=True, n_samples=len(majority_class), random_state=42)\n",
        "\n",
        "# Combine the upsampled minority class with the majority class\n",
        "df_upsampled = pd.concat([majority_class, minority_upsampled])\n",
        "\n",
        "# Display the class distribution after upsampling\n",
        "print(df_upsampled['Class'].value_counts())"
      ]
    },
    {
      "cell_type": "code",
      "execution_count": 29,
      "metadata": {
        "id": "XMeaeMiE-DJz"
      },
      "outputs": [],
      "source": [
        "# Prepare features and target variable\n",
        "X = df_upsampled.drop('Class', axis=1)\n",
        "y = df_upsampled['Class']"
      ]
    },
    {
      "cell_type": "code",
      "execution_count": 30,
      "metadata": {
        "colab": {
          "base_uri": "https://localhost:8080/",
          "height": 561
        },
        "id": "EgxkCyAR-1ss",
        "outputId": "006be053-4709-4c84-cc0b-48e079363e1f"
      },
      "outputs": [
        {
          "name": "stdout",
          "output_type": "stream",
          "text": [
            "Accuracy: 0.9931853753759035\n",
            "Precision: 0.9924474740217639\n",
            "Recall: 0.993962793962794\n",
            "F1 Score: 0.9932045560163792\n",
            "AUC-PRC: 0.9991544718300088\n"
          ]
        },
        {
          "data": {
            "image/png": "[encoded data removed]",
            "text/plain": [
              "<Figure size 640x480 with 1 Axes>"
            ]
          },
          "metadata": {},
          "output_type": "display_data"
        }
      ],
      "source": [
        "X_train, X_test, y_train, y_test = train_test_split(X, y, test_size=0.2, random_state=42)\n",
        "\n",
        "dtrain = xgb.DMatrix(X_train, label=y_train)\n",
        "dtest = xgb.DMatrix(X_test, label=y_test)\n",
        "\n",
        "params = {\n",
        "    'objective': 'binary:logistic',  # for binary classification problems\n",
        "    'max_depth': 3,\n",
        "    'learning_rate': 0.1,\n",
        "    'eval_metric': 'logloss'\n",
        "}\n",
        "\n",
        "num_rounds = 100\n",
        "model = xgb.train(params, dtrain, num_rounds)\n",
        "y_pred = model.predict(dtest)\n",
        "y_pred_binary = [1 if pred > 0.5 else 0 for pred in y_pred]\n",
        "\n",
        "# Calculate accuracy, precision, recall, and F1 Score\n",
        "accuracy = accuracy_score(y_test, y_pred_binary)\n",
        "precision = precision_score(y_test, y_pred_binary)\n",
        "recall = recall_score(y_test, y_pred_binary)\n",
        "f1 = f1_score(y_test, y_pred_binary)\n",
        "\n",
        "print(f\"Accuracy: {accuracy}\")\n",
        "print(f\"Precision: {precision}\")\n",
        "print(f\"Recall: {recall}\")\n",
        "print(f\"F1 Score: {f1}\")\n",
        "\n",
        "# Calculate Area Under the Precision-Recall Curve (AUC-PRC)\n",
        "auc_prc = average_precision_score(y_test, y_pred)\n",
        "print(f\"AUC-PRC: {auc_prc}\")\n",
        "precision_data, recall_data, thresholds = precision_recall_curve(y_test, y_pred)\n",
        "plt.plot(recall_data, precision_data, label='Precision-Recall Curve')\n",
        "plt.xlabel('Recall')\n",
        "plt.ylabel('Precision')\n",
        "plt.title('Precision-Recall Curve')\n",
        "plt.legend()\n",
        "plt.show()"
      ]
    }
  ],
  "metadata": {
    "colab": {
      "provenance": []
    },
    "kernelspec": {
      "display_name": "Python 3",
      "name": "python3"
    },
    "language_info": {
      "codemirror_mode": {
        "name": "ipython",
        "version": 3
      },
      "file_extension": ".py",
      "mimetype": "text/x-python",
      "name": "python",
      "nbconvert_exporter": "python",
      "pygments_lexer": "ipython3",
      "version": "3.11.4"
    }
  },
  "nbformat": 4,
  "nbformat_minor": 0
}
